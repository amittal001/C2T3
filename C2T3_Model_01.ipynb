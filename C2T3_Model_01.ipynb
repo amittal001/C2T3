{
 "cells": [
  {
   "cell_type": "code",
   "execution_count": 36,
   "id": "a25de479",
   "metadata": {},
   "outputs": [],
   "source": [
    "#imports\n",
    "#numpy,pandas,scipy, math, matplotlib\n",
    "\n",
    "import numpy as np\n",
    "import pandas as pd\n",
    "import scipy\n",
    "from math import sqrt\n",
    "import matplotlib.pyplot as plt\n",
    "\n",
    "#estimators\n",
    "from sklearn.ensemble import RandomForestRegressor\n",
    "from sklearn.linear_model import LinearRegression\n",
    "from sklearn.svm import SVR\n",
    "from sklearn import linear_model\n",
    "\n",
    "#model metrics\n",
    "from sklearn.metrics import mean_squared_error\n",
    "from sklearn.metrics import r2_score\n",
    "from sklearn.metrics import confusion_matrix, ConfusionMatrixDisplay\n",
    "from sklearn.metrics import accuracy_score, classification_report\n",
    "\n",
    "from sklearn.model_selection import cross_val_score, train_test_split\n",
    "\n",
    "from sklearn.tree import DecisionTreeClassifier\n",
    "from sklearn.ensemble import RandomForestClassifier, GradientBoostingClassifier"
   ]
  },
  {
   "cell_type": "code",
   "execution_count": 3,
   "id": "4d06bc45",
   "metadata": {
    "scrolled": true
   },
   "outputs": [
    {
     "data": {
      "text/html": [
       "<div>\n",
       "<style scoped>\n",
       "    .dataframe tbody tr th:only-of-type {\n",
       "        vertical-align: middle;\n",
       "    }\n",
       "\n",
       "    .dataframe tbody tr th {\n",
       "        vertical-align: top;\n",
       "    }\n",
       "\n",
       "    .dataframe thead th {\n",
       "        text-align: right;\n",
       "    }\n",
       "</style>\n",
       "<table border=\"1\" class=\"dataframe\">\n",
       "  <thead>\n",
       "    <tr style=\"text-align: right;\">\n",
       "      <th></th>\n",
       "      <th>ID</th>\n",
       "      <th>LIMIT_BAL</th>\n",
       "      <th>SEX</th>\n",
       "      <th>EDUCATION</th>\n",
       "      <th>MARRIAGE</th>\n",
       "      <th>AGE</th>\n",
       "      <th>ACCT_BAL</th>\n",
       "      <th>RESULT</th>\n",
       "      <th>PAY_FREQ</th>\n",
       "      <th>AGE_GROUP</th>\n",
       "    </tr>\n",
       "  </thead>\n",
       "  <tbody>\n",
       "    <tr>\n",
       "      <th>0</th>\n",
       "      <td>1</td>\n",
       "      <td>20000</td>\n",
       "      <td>FEMALE</td>\n",
       "      <td>UNIVERSITY</td>\n",
       "      <td>1</td>\n",
       "      <td>24</td>\n",
       "      <td>0</td>\n",
       "      <td>DEFAULT</td>\n",
       "      <td>1</td>\n",
       "      <td>GEN Z</td>\n",
       "    </tr>\n",
       "    <tr>\n",
       "      <th>1</th>\n",
       "      <td>2</td>\n",
       "      <td>120000</td>\n",
       "      <td>FEMALE</td>\n",
       "      <td>UNIVERSITY</td>\n",
       "      <td>2</td>\n",
       "      <td>26</td>\n",
       "      <td>3261</td>\n",
       "      <td>DEFAULT</td>\n",
       "      <td>4</td>\n",
       "      <td>GEN Z</td>\n",
       "    </tr>\n",
       "    <tr>\n",
       "      <th>2</th>\n",
       "      <td>3</td>\n",
       "      <td>90000</td>\n",
       "      <td>FEMALE</td>\n",
       "      <td>UNIVERSITY</td>\n",
       "      <td>2</td>\n",
       "      <td>34</td>\n",
       "      <td>15549</td>\n",
       "      <td>ACTIVE</td>\n",
       "      <td>6</td>\n",
       "      <td>MILLENNIAL</td>\n",
       "    </tr>\n",
       "    <tr>\n",
       "      <th>3</th>\n",
       "      <td>4</td>\n",
       "      <td>50000</td>\n",
       "      <td>FEMALE</td>\n",
       "      <td>UNIVERSITY</td>\n",
       "      <td>1</td>\n",
       "      <td>37</td>\n",
       "      <td>29547</td>\n",
       "      <td>ACTIVE</td>\n",
       "      <td>6</td>\n",
       "      <td>MILLENNIAL</td>\n",
       "    </tr>\n",
       "    <tr>\n",
       "      <th>4</th>\n",
       "      <td>5</td>\n",
       "      <td>50000</td>\n",
       "      <td>MALE</td>\n",
       "      <td>UNIVERSITY</td>\n",
       "      <td>1</td>\n",
       "      <td>57</td>\n",
       "      <td>19131</td>\n",
       "      <td>ACTIVE</td>\n",
       "      <td>6</td>\n",
       "      <td>GEN X</td>\n",
       "    </tr>\n",
       "  </tbody>\n",
       "</table>\n",
       "</div>"
      ],
      "text/plain": [
       "   ID  LIMIT_BAL     SEX   EDUCATION  MARRIAGE  AGE  ACCT_BAL   RESULT  \\\n",
       "0   1      20000  FEMALE  UNIVERSITY         1   24         0  DEFAULT   \n",
       "1   2     120000  FEMALE  UNIVERSITY         2   26      3261  DEFAULT   \n",
       "2   3      90000  FEMALE  UNIVERSITY         2   34     15549   ACTIVE   \n",
       "3   4      50000  FEMALE  UNIVERSITY         1   37     29547   ACTIVE   \n",
       "4   5      50000    MALE  UNIVERSITY         1   57     19131   ACTIVE   \n",
       "\n",
       "   PAY_FREQ   AGE_GROUP  \n",
       "0         1       GEN Z  \n",
       "1         4       GEN Z  \n",
       "2         6  MILLENNIAL  \n",
       "3         6  MILLENNIAL  \n",
       "4         6       GEN X  "
      ]
     },
     "execution_count": 3,
     "metadata": {},
     "output_type": "execute_result"
    }
   ],
   "source": [
    "#data\n",
    "rawData = pd.read_csv('output.csv')\n",
    "rawData.head()"
   ]
  },
  {
   "cell_type": "code",
   "execution_count": 4,
   "id": "fd6e0c9e",
   "metadata": {},
   "outputs": [
    {
     "data": {
      "text/html": [
       "<div>\n",
       "<style scoped>\n",
       "    .dataframe tbody tr th:only-of-type {\n",
       "        vertical-align: middle;\n",
       "    }\n",
       "\n",
       "    .dataframe tbody tr th {\n",
       "        vertical-align: top;\n",
       "    }\n",
       "\n",
       "    .dataframe thead th {\n",
       "        text-align: right;\n",
       "    }\n",
       "</style>\n",
       "<table border=\"1\" class=\"dataframe\">\n",
       "  <thead>\n",
       "    <tr style=\"text-align: right;\">\n",
       "      <th></th>\n",
       "      <th>ID</th>\n",
       "      <th>LIMIT_BAL</th>\n",
       "      <th>SEX</th>\n",
       "      <th>EDUCATION</th>\n",
       "      <th>MARRIAGE</th>\n",
       "      <th>AGE</th>\n",
       "      <th>ACCT_BAL</th>\n",
       "      <th>RESULT</th>\n",
       "      <th>PAY_FREQ</th>\n",
       "      <th>AGE_GROUP</th>\n",
       "      <th>NRESULT</th>\n",
       "    </tr>\n",
       "  </thead>\n",
       "  <tbody>\n",
       "    <tr>\n",
       "      <th>0</th>\n",
       "      <td>1</td>\n",
       "      <td>20000</td>\n",
       "      <td>FEMALE</td>\n",
       "      <td>UNIVERSITY</td>\n",
       "      <td>1</td>\n",
       "      <td>24</td>\n",
       "      <td>0</td>\n",
       "      <td>DEFAULT</td>\n",
       "      <td>1</td>\n",
       "      <td>GEN Z</td>\n",
       "      <td>0</td>\n",
       "    </tr>\n",
       "    <tr>\n",
       "      <th>1</th>\n",
       "      <td>2</td>\n",
       "      <td>120000</td>\n",
       "      <td>FEMALE</td>\n",
       "      <td>UNIVERSITY</td>\n",
       "      <td>2</td>\n",
       "      <td>26</td>\n",
       "      <td>3261</td>\n",
       "      <td>DEFAULT</td>\n",
       "      <td>4</td>\n",
       "      <td>GEN Z</td>\n",
       "      <td>0</td>\n",
       "    </tr>\n",
       "    <tr>\n",
       "      <th>2</th>\n",
       "      <td>3</td>\n",
       "      <td>90000</td>\n",
       "      <td>FEMALE</td>\n",
       "      <td>UNIVERSITY</td>\n",
       "      <td>2</td>\n",
       "      <td>34</td>\n",
       "      <td>15549</td>\n",
       "      <td>ACTIVE</td>\n",
       "      <td>6</td>\n",
       "      <td>MILLENNIAL</td>\n",
       "      <td>1</td>\n",
       "    </tr>\n",
       "    <tr>\n",
       "      <th>3</th>\n",
       "      <td>4</td>\n",
       "      <td>50000</td>\n",
       "      <td>FEMALE</td>\n",
       "      <td>UNIVERSITY</td>\n",
       "      <td>1</td>\n",
       "      <td>37</td>\n",
       "      <td>29547</td>\n",
       "      <td>ACTIVE</td>\n",
       "      <td>6</td>\n",
       "      <td>MILLENNIAL</td>\n",
       "      <td>1</td>\n",
       "    </tr>\n",
       "    <tr>\n",
       "      <th>4</th>\n",
       "      <td>5</td>\n",
       "      <td>50000</td>\n",
       "      <td>MALE</td>\n",
       "      <td>UNIVERSITY</td>\n",
       "      <td>1</td>\n",
       "      <td>57</td>\n",
       "      <td>19131</td>\n",
       "      <td>ACTIVE</td>\n",
       "      <td>6</td>\n",
       "      <td>GEN X</td>\n",
       "      <td>1</td>\n",
       "    </tr>\n",
       "  </tbody>\n",
       "</table>\n",
       "</div>"
      ],
      "text/plain": [
       "   ID  LIMIT_BAL     SEX   EDUCATION  MARRIAGE  AGE  ACCT_BAL   RESULT  \\\n",
       "0   1      20000  FEMALE  UNIVERSITY         1   24         0  DEFAULT   \n",
       "1   2     120000  FEMALE  UNIVERSITY         2   26      3261  DEFAULT   \n",
       "2   3      90000  FEMALE  UNIVERSITY         2   34     15549   ACTIVE   \n",
       "3   4      50000  FEMALE  UNIVERSITY         1   37     29547   ACTIVE   \n",
       "4   5      50000    MALE  UNIVERSITY         1   57     19131   ACTIVE   \n",
       "\n",
       "   PAY_FREQ   AGE_GROUP  NRESULT  \n",
       "0         1       GEN Z        0  \n",
       "1         4       GEN Z        0  \n",
       "2         6  MILLENNIAL        1  \n",
       "3         6  MILLENNIAL        1  \n",
       "4         6       GEN X        1  "
      ]
     },
     "execution_count": 4,
     "metadata": {},
     "output_type": "execute_result"
    }
   ],
   "source": [
    "#Convert Result to Numeric\n",
    "rawData['NRESULT'] = np.where(rawData['RESULT'] == 'DEFAULT', 0, 1)\n",
    "rawData.head()"
   ]
  },
  {
   "cell_type": "code",
   "execution_count": 5,
   "id": "4e1fa525",
   "metadata": {},
   "outputs": [],
   "source": [
    "rawData.drop(columns=['RESULT','AGE'], inplace=True)"
   ]
  },
  {
   "cell_type": "code",
   "execution_count": 6,
   "id": "76d39a00",
   "metadata": {
    "scrolled": true
   },
   "outputs": [
    {
     "name": "stdout",
     "output_type": "stream",
     "text": [
      "<class 'pandas.core.frame.DataFrame'>\n",
      "RangeIndex: 2296 entries, 0 to 2295\n",
      "Data columns (total 9 columns):\n",
      " #   Column     Non-Null Count  Dtype \n",
      "---  ------     --------------  ----- \n",
      " 0   ID         2296 non-null   int64 \n",
      " 1   LIMIT_BAL  2296 non-null   int64 \n",
      " 2   SEX        2296 non-null   object\n",
      " 3   EDUCATION  2296 non-null   object\n",
      " 4   MARRIAGE   2296 non-null   int64 \n",
      " 5   ACCT_BAL   2296 non-null   int64 \n",
      " 6   PAY_FREQ   2296 non-null   int64 \n",
      " 7   AGE_GROUP  2296 non-null   object\n",
      " 8   NRESULT    2296 non-null   int32 \n",
      "dtypes: int32(1), int64(5), object(3)\n",
      "memory usage: 152.6+ KB\n"
     ]
    }
   ],
   "source": [
    "rawData.info()"
   ]
  },
  {
   "cell_type": "code",
   "execution_count": 7,
   "id": "eed2f35d",
   "metadata": {},
   "outputs": [
    {
     "data": {
      "text/html": [
       "<div>\n",
       "<style scoped>\n",
       "    .dataframe tbody tr th:only-of-type {\n",
       "        vertical-align: middle;\n",
       "    }\n",
       "\n",
       "    .dataframe tbody tr th {\n",
       "        vertical-align: top;\n",
       "    }\n",
       "\n",
       "    .dataframe thead th {\n",
       "        text-align: right;\n",
       "    }\n",
       "</style>\n",
       "<table border=\"1\" class=\"dataframe\">\n",
       "  <thead>\n",
       "    <tr style=\"text-align: right;\">\n",
       "      <th></th>\n",
       "      <th>ID</th>\n",
       "      <th>LIMIT_BAL</th>\n",
       "      <th>SEX</th>\n",
       "      <th>EDUCATION</th>\n",
       "      <th>MARRIAGE</th>\n",
       "      <th>ACCT_BAL</th>\n",
       "      <th>PAY_FREQ</th>\n",
       "      <th>AGE_GROUP</th>\n",
       "      <th>NRESULT</th>\n",
       "    </tr>\n",
       "  </thead>\n",
       "  <tbody>\n",
       "    <tr>\n",
       "      <th>0</th>\n",
       "      <td>1</td>\n",
       "      <td>20000</td>\n",
       "      <td>FEMALE</td>\n",
       "      <td>UNIVERSITY</td>\n",
       "      <td>1</td>\n",
       "      <td>0</td>\n",
       "      <td>1</td>\n",
       "      <td>GEN Z</td>\n",
       "      <td>0</td>\n",
       "    </tr>\n",
       "    <tr>\n",
       "      <th>1</th>\n",
       "      <td>2</td>\n",
       "      <td>120000</td>\n",
       "      <td>FEMALE</td>\n",
       "      <td>UNIVERSITY</td>\n",
       "      <td>2</td>\n",
       "      <td>3261</td>\n",
       "      <td>4</td>\n",
       "      <td>GEN Z</td>\n",
       "      <td>0</td>\n",
       "    </tr>\n",
       "    <tr>\n",
       "      <th>2</th>\n",
       "      <td>3</td>\n",
       "      <td>90000</td>\n",
       "      <td>FEMALE</td>\n",
       "      <td>UNIVERSITY</td>\n",
       "      <td>2</td>\n",
       "      <td>15549</td>\n",
       "      <td>6</td>\n",
       "      <td>MILLENNIAL</td>\n",
       "      <td>1</td>\n",
       "    </tr>\n",
       "    <tr>\n",
       "      <th>3</th>\n",
       "      <td>4</td>\n",
       "      <td>50000</td>\n",
       "      <td>FEMALE</td>\n",
       "      <td>UNIVERSITY</td>\n",
       "      <td>1</td>\n",
       "      <td>29547</td>\n",
       "      <td>6</td>\n",
       "      <td>MILLENNIAL</td>\n",
       "      <td>1</td>\n",
       "    </tr>\n",
       "    <tr>\n",
       "      <th>4</th>\n",
       "      <td>5</td>\n",
       "      <td>50000</td>\n",
       "      <td>MALE</td>\n",
       "      <td>UNIVERSITY</td>\n",
       "      <td>1</td>\n",
       "      <td>19131</td>\n",
       "      <td>6</td>\n",
       "      <td>GEN X</td>\n",
       "      <td>1</td>\n",
       "    </tr>\n",
       "  </tbody>\n",
       "</table>\n",
       "</div>"
      ],
      "text/plain": [
       "   ID  LIMIT_BAL     SEX   EDUCATION  MARRIAGE  ACCT_BAL  PAY_FREQ  \\\n",
       "0   1      20000  FEMALE  UNIVERSITY         1         0         1   \n",
       "1   2     120000  FEMALE  UNIVERSITY         2      3261         4   \n",
       "2   3      90000  FEMALE  UNIVERSITY         2     15549         6   \n",
       "3   4      50000  FEMALE  UNIVERSITY         1     29547         6   \n",
       "4   5      50000    MALE  UNIVERSITY         1     19131         6   \n",
       "\n",
       "    AGE_GROUP  NRESULT  \n",
       "0       GEN Z        0  \n",
       "1       GEN Z        0  \n",
       "2  MILLENNIAL        1  \n",
       "3  MILLENNIAL        1  \n",
       "4       GEN X        1  "
      ]
     },
     "execution_count": 7,
     "metadata": {},
     "output_type": "execute_result"
    }
   ],
   "source": [
    "rawData.head()"
   ]
  },
  {
   "cell_type": "code",
   "execution_count": 8,
   "id": "aeac3d3a",
   "metadata": {},
   "outputs": [
    {
     "data": {
      "text/html": [
       "<div>\n",
       "<style scoped>\n",
       "    .dataframe tbody tr th:only-of-type {\n",
       "        vertical-align: middle;\n",
       "    }\n",
       "\n",
       "    .dataframe tbody tr th {\n",
       "        vertical-align: top;\n",
       "    }\n",
       "\n",
       "    .dataframe thead th {\n",
       "        text-align: right;\n",
       "    }\n",
       "</style>\n",
       "<table border=\"1\" class=\"dataframe\">\n",
       "  <thead>\n",
       "    <tr style=\"text-align: right;\">\n",
       "      <th></th>\n",
       "      <th>ID</th>\n",
       "      <th>LIMIT_BAL</th>\n",
       "      <th>MARRIAGE</th>\n",
       "      <th>ACCT_BAL</th>\n",
       "      <th>PAY_FREQ</th>\n",
       "      <th>NRESULT</th>\n",
       "      <th>SEX_FEMALE</th>\n",
       "      <th>SEX_MALE</th>\n",
       "      <th>EDUCATION_GRADUATE SCHOOL</th>\n",
       "      <th>EDUCATION_HIGH SCHOOL</th>\n",
       "      <th>EDUCATION_UNIVERSITY</th>\n",
       "      <th>AGE_GROUP_GEN X</th>\n",
       "      <th>AGE_GROUP_GEN Z</th>\n",
       "      <th>AGE_GROUP_MILLENNIAL</th>\n",
       "    </tr>\n",
       "  </thead>\n",
       "  <tbody>\n",
       "    <tr>\n",
       "      <th>0</th>\n",
       "      <td>1</td>\n",
       "      <td>20000</td>\n",
       "      <td>1</td>\n",
       "      <td>0</td>\n",
       "      <td>1</td>\n",
       "      <td>0</td>\n",
       "      <td>1</td>\n",
       "      <td>0</td>\n",
       "      <td>0</td>\n",
       "      <td>0</td>\n",
       "      <td>1</td>\n",
       "      <td>0</td>\n",
       "      <td>1</td>\n",
       "      <td>0</td>\n",
       "    </tr>\n",
       "    <tr>\n",
       "      <th>1</th>\n",
       "      <td>2</td>\n",
       "      <td>120000</td>\n",
       "      <td>2</td>\n",
       "      <td>3261</td>\n",
       "      <td>4</td>\n",
       "      <td>0</td>\n",
       "      <td>1</td>\n",
       "      <td>0</td>\n",
       "      <td>0</td>\n",
       "      <td>0</td>\n",
       "      <td>1</td>\n",
       "      <td>0</td>\n",
       "      <td>1</td>\n",
       "      <td>0</td>\n",
       "    </tr>\n",
       "    <tr>\n",
       "      <th>2</th>\n",
       "      <td>3</td>\n",
       "      <td>90000</td>\n",
       "      <td>2</td>\n",
       "      <td>15549</td>\n",
       "      <td>6</td>\n",
       "      <td>1</td>\n",
       "      <td>1</td>\n",
       "      <td>0</td>\n",
       "      <td>0</td>\n",
       "      <td>0</td>\n",
       "      <td>1</td>\n",
       "      <td>0</td>\n",
       "      <td>0</td>\n",
       "      <td>1</td>\n",
       "    </tr>\n",
       "    <tr>\n",
       "      <th>3</th>\n",
       "      <td>4</td>\n",
       "      <td>50000</td>\n",
       "      <td>1</td>\n",
       "      <td>29547</td>\n",
       "      <td>6</td>\n",
       "      <td>1</td>\n",
       "      <td>1</td>\n",
       "      <td>0</td>\n",
       "      <td>0</td>\n",
       "      <td>0</td>\n",
       "      <td>1</td>\n",
       "      <td>0</td>\n",
       "      <td>0</td>\n",
       "      <td>1</td>\n",
       "    </tr>\n",
       "    <tr>\n",
       "      <th>4</th>\n",
       "      <td>5</td>\n",
       "      <td>50000</td>\n",
       "      <td>1</td>\n",
       "      <td>19131</td>\n",
       "      <td>6</td>\n",
       "      <td>1</td>\n",
       "      <td>0</td>\n",
       "      <td>1</td>\n",
       "      <td>0</td>\n",
       "      <td>0</td>\n",
       "      <td>1</td>\n",
       "      <td>1</td>\n",
       "      <td>0</td>\n",
       "      <td>0</td>\n",
       "    </tr>\n",
       "  </tbody>\n",
       "</table>\n",
       "</div>"
      ],
      "text/plain": [
       "   ID  LIMIT_BAL  MARRIAGE  ACCT_BAL  PAY_FREQ  NRESULT  SEX_FEMALE  SEX_MALE  \\\n",
       "0   1      20000         1         0         1        0           1         0   \n",
       "1   2     120000         2      3261         4        0           1         0   \n",
       "2   3      90000         2     15549         6        1           1         0   \n",
       "3   4      50000         1     29547         6        1           1         0   \n",
       "4   5      50000         1     19131         6        1           0         1   \n",
       "\n",
       "   EDUCATION_GRADUATE SCHOOL  EDUCATION_HIGH SCHOOL  EDUCATION_UNIVERSITY  \\\n",
       "0                          0                      0                     1   \n",
       "1                          0                      0                     1   \n",
       "2                          0                      0                     1   \n",
       "3                          0                      0                     1   \n",
       "4                          0                      0                     1   \n",
       "\n",
       "   AGE_GROUP_GEN X  AGE_GROUP_GEN Z  AGE_GROUP_MILLENNIAL  \n",
       "0                0                1                     0  \n",
       "1                0                1                     0  \n",
       "2                0                0                     1  \n",
       "3                0                0                     1  \n",
       "4                1                0                     0  "
      ]
     },
     "execution_count": 8,
     "metadata": {},
     "output_type": "execute_result"
    }
   ],
   "source": [
    "credit = pd.get_dummies(rawData)\n",
    "credit.head()"
   ]
  },
  {
   "cell_type": "code",
   "execution_count": 9,
   "id": "68d29d46",
   "metadata": {
    "scrolled": true
   },
   "outputs": [
    {
     "data": {
      "text/html": [
       "<div>\n",
       "<style scoped>\n",
       "    .dataframe tbody tr th:only-of-type {\n",
       "        vertical-align: middle;\n",
       "    }\n",
       "\n",
       "    .dataframe tbody tr th {\n",
       "        vertical-align: top;\n",
       "    }\n",
       "\n",
       "    .dataframe thead th {\n",
       "        text-align: right;\n",
       "    }\n",
       "</style>\n",
       "<table border=\"1\" class=\"dataframe\">\n",
       "  <thead>\n",
       "    <tr style=\"text-align: right;\">\n",
       "      <th></th>\n",
       "      <th>AGE_GROUP_GEN X</th>\n",
       "      <th>AGE_GROUP_GEN Z</th>\n",
       "      <th>AGE_GROUP_MILLENNIAL</th>\n",
       "      <th>EDUCATION_GRADUATE SCHOOL</th>\n",
       "      <th>EDUCATION_UNIVERSITY</th>\n",
       "      <th>EDUCATION_HIGH SCHOOL</th>\n",
       "      <th>ACCT_BAL</th>\n",
       "      <th>PAY_FREQ</th>\n",
       "      <th>SEX_FEMALE</th>\n",
       "      <th>SEX_MALE</th>\n",
       "    </tr>\n",
       "  </thead>\n",
       "  <tbody>\n",
       "    <tr>\n",
       "      <th>0</th>\n",
       "      <td>0</td>\n",
       "      <td>1</td>\n",
       "      <td>0</td>\n",
       "      <td>0</td>\n",
       "      <td>1</td>\n",
       "      <td>0</td>\n",
       "      <td>0</td>\n",
       "      <td>1</td>\n",
       "      <td>1</td>\n",
       "      <td>0</td>\n",
       "    </tr>\n",
       "    <tr>\n",
       "      <th>1</th>\n",
       "      <td>0</td>\n",
       "      <td>1</td>\n",
       "      <td>0</td>\n",
       "      <td>0</td>\n",
       "      <td>1</td>\n",
       "      <td>0</td>\n",
       "      <td>3261</td>\n",
       "      <td>4</td>\n",
       "      <td>1</td>\n",
       "      <td>0</td>\n",
       "    </tr>\n",
       "    <tr>\n",
       "      <th>2</th>\n",
       "      <td>0</td>\n",
       "      <td>0</td>\n",
       "      <td>1</td>\n",
       "      <td>0</td>\n",
       "      <td>1</td>\n",
       "      <td>0</td>\n",
       "      <td>15549</td>\n",
       "      <td>6</td>\n",
       "      <td>1</td>\n",
       "      <td>0</td>\n",
       "    </tr>\n",
       "    <tr>\n",
       "      <th>3</th>\n",
       "      <td>0</td>\n",
       "      <td>0</td>\n",
       "      <td>1</td>\n",
       "      <td>0</td>\n",
       "      <td>1</td>\n",
       "      <td>0</td>\n",
       "      <td>29547</td>\n",
       "      <td>6</td>\n",
       "      <td>1</td>\n",
       "      <td>0</td>\n",
       "    </tr>\n",
       "    <tr>\n",
       "      <th>4</th>\n",
       "      <td>1</td>\n",
       "      <td>0</td>\n",
       "      <td>0</td>\n",
       "      <td>0</td>\n",
       "      <td>1</td>\n",
       "      <td>0</td>\n",
       "      <td>19131</td>\n",
       "      <td>6</td>\n",
       "      <td>0</td>\n",
       "      <td>1</td>\n",
       "    </tr>\n",
       "  </tbody>\n",
       "</table>\n",
       "</div>"
      ],
      "text/plain": [
       "   AGE_GROUP_GEN X  AGE_GROUP_GEN Z  AGE_GROUP_MILLENNIAL  \\\n",
       "0                0                1                     0   \n",
       "1                0                1                     0   \n",
       "2                0                0                     1   \n",
       "3                0                0                     1   \n",
       "4                1                0                     0   \n",
       "\n",
       "   EDUCATION_GRADUATE SCHOOL  EDUCATION_UNIVERSITY  EDUCATION_HIGH SCHOOL  \\\n",
       "0                          0                     1                      0   \n",
       "1                          0                     1                      0   \n",
       "2                          0                     1                      0   \n",
       "3                          0                     1                      0   \n",
       "4                          0                     1                      0   \n",
       "\n",
       "   ACCT_BAL  PAY_FREQ  SEX_FEMALE  SEX_MALE  \n",
       "0         0         1           1         0  \n",
       "1      3261         4           1         0  \n",
       "2     15549         6           1         0  \n",
       "3     29547         6           1         0  \n",
       "4     19131         6           0         1  "
      ]
     },
     "execution_count": 9,
     "metadata": {},
     "output_type": "execute_result"
    }
   ],
   "source": [
    "#X = rawData.loc[:,['LIMIT_BAL', 'MARRIAGE', 'ACCT_BAL', 'PAY_FREQ']]\n",
    "#X = credit.drop(columns='NRESULT')\n",
    "X = credit[['AGE_GROUP_GEN X', 'AGE_GROUP_GEN Z', 'AGE_GROUP_MILLENNIAL', 'EDUCATION_GRADUATE SCHOOL', 'EDUCATION_UNIVERSITY', 'EDUCATION_HIGH SCHOOL', 'ACCT_BAL', 'PAY_FREQ', 'SEX_FEMALE', 'SEX_MALE']] \n",
    "#'EDUCATION_GRADUATE SCHOOL', 'EDUCATION_UNIVERSITY', 'EDUCATION_HIGH SCHOOL', 'ACCT_BAL', 'PAY_FREQ', 'SEX_FEMALE', 'SEX_MALE'\n",
    "X.head()"
   ]
  },
  {
   "cell_type": "code",
   "execution_count": 10,
   "id": "32207b38",
   "metadata": {
    "scrolled": true
   },
   "outputs": [
    {
     "data": {
      "text/plain": [
       "0     20000\n",
       "1    120000\n",
       "2     90000\n",
       "3     50000\n",
       "4     50000\n",
       "Name: LIMIT_BAL, dtype: int64"
      ]
     },
     "execution_count": 10,
     "metadata": {},
     "output_type": "execute_result"
    }
   ],
   "source": [
    "y = credit['LIMIT_BAL']\n",
    "y.head()"
   ]
  },
  {
   "cell_type": "code",
   "execution_count": 11,
   "id": "37653ada",
   "metadata": {},
   "outputs": [],
   "source": [
    "algosClass = []\n",
    "algosClass.append(('Random Forest Regressor',RandomForestRegressor()))\n",
    "algosClass.append(('Linear Regression',LinearRegression()))\n",
    "algosClass.append(('Support Vector Regression',SVR()))"
   ]
  },
  {
   "cell_type": "code",
   "execution_count": 12,
   "id": "22164c70",
   "metadata": {},
   "outputs": [],
   "source": [
    "#regression\n",
    "results = []\n",
    "names = []\n",
    "for name, model in algosClass:\n",
    "    result = cross_val_score(model, X,y, cv=3, scoring='r2')\n",
    "    names.append(name)\n",
    "    results.append(result)"
   ]
  },
  {
   "cell_type": "code",
   "execution_count": 13,
   "id": "01c64538",
   "metadata": {},
   "outputs": [
    {
     "name": "stdout",
     "output_type": "stream",
     "text": [
      "Random Forest Regressor 0.16749301178384834\n",
      "Linear Regression 0.2482474189906636\n",
      "Support Vector Regression -0.04209783957560501\n"
     ]
    }
   ],
   "source": [
    "for i in range(len(names)):\n",
    "    print(names[i],results[i].mean())"
   ]
  },
  {
   "cell_type": "code",
   "execution_count": 14,
   "id": "43d75f87",
   "metadata": {},
   "outputs": [],
   "source": [
    "X_train, X_test, y_train, y_test = train_test_split(X, y, test_size = .30, random_state = 123)\n",
    "algo = LinearRegression()\n",
    "model = algo.fit(X_train,y_train)"
   ]
  },
  {
   "cell_type": "code",
   "execution_count": 15,
   "id": "4296b7f2",
   "metadata": {},
   "outputs": [
    {
     "data": {
      "text/plain": [
       "0.22558202609050382"
      ]
     },
     "execution_count": 15,
     "metadata": {},
     "output_type": "execute_result"
    }
   ],
   "source": [
    "model.score(X_test, y_test)"
   ]
  },
  {
   "cell_type": "code",
   "execution_count": 16,
   "id": "f2017215",
   "metadata": {},
   "outputs": [
    {
     "name": "stdout",
     "output_type": "stream",
     "text": [
      "R Squared: 0.226\n",
      "RMSE: 114228.707\n"
     ]
    }
   ],
   "source": [
    "#Make Predictions\n",
    "predictions = model.predict(X_test)\n",
    "predRsquared = r2_score(y_test,predictions)\n",
    "rmse = sqrt(mean_squared_error(y_test, predictions))\n",
    "print('R Squared: %.3f' % predRsquared)\n",
    "print('RMSE: %.3f' % rmse)"
   ]
  },
  {
   "cell_type": "code",
   "execution_count": 17,
   "id": "1c44d16e",
   "metadata": {},
   "outputs": [
    {
     "data": {
      "image/png": "[encoded data removed]",
      "text/plain": [
       "<Figure size 432x288 with 1 Axes>"
      ]
     },
     "metadata": {
      "needs_background": "light"
     },
     "output_type": "display_data"
    }
   ],
   "source": [
    "#fig, ax = plt.subplots(figsize=(20,5))\n",
    "#ax.scatter(y_test,predictions, color='green',alpha=0.5)\n",
    "plt.scatter(y_test, predictions, alpha = 0.5)\n",
    "plt.xlabel('Ground Truth')\n",
    "plt.ylabel('Predictions')\n",
    "plt.show();"
   ]
  },
  {
   "cell_type": "code",
   "execution_count": 38,
   "id": "c7ecd58e",
   "metadata": {},
   "outputs": [],
   "source": [
    "algos_Class = []\n",
    "algos_Class.append(('Decision Tree Classifier', DecisionTreeClassifier()))\n",
    "algos_Class.append(('Random Forest Classifier', RandomForestClassifier(n_estimators=50)))\n",
    "algos_Class.append(('Gradient Boosting Classifier', GradientBoostingClassifier()))"
   ]
  },
  {
   "cell_type": "code",
   "execution_count": 39,
   "id": "cc7e21dd",
   "metadata": {},
   "outputs": [
    {
     "data": {
      "text/html": [
       "<div>\n",
       "<style scoped>\n",
       "    .dataframe tbody tr th:only-of-type {\n",
       "        vertical-align: middle;\n",
       "    }\n",
       "\n",
       "    .dataframe tbody tr th {\n",
       "        vertical-align: top;\n",
       "    }\n",
       "\n",
       "    .dataframe thead th {\n",
       "        text-align: right;\n",
       "    }\n",
       "</style>\n",
       "<table border=\"1\" class=\"dataframe\">\n",
       "  <thead>\n",
       "    <tr style=\"text-align: right;\">\n",
       "      <th></th>\n",
       "      <th>AGE_GROUP_GEN X</th>\n",
       "      <th>AGE_GROUP_GEN Z</th>\n",
       "      <th>AGE_GROUP_MILLENNIAL</th>\n",
       "      <th>EDUCATION_GRADUATE SCHOOL</th>\n",
       "      <th>EDUCATION_UNIVERSITY</th>\n",
       "      <th>EDUCATION_HIGH SCHOOL</th>\n",
       "      <th>PAY_FREQ</th>\n",
       "      <th>SEX_FEMALE</th>\n",
       "      <th>SEX_MALE</th>\n",
       "      <th>ACCT_BAL</th>\n",
       "    </tr>\n",
       "  </thead>\n",
       "  <tbody>\n",
       "    <tr>\n",
       "      <th>0</th>\n",
       "      <td>0</td>\n",
       "      <td>1</td>\n",
       "      <td>0</td>\n",
       "      <td>0</td>\n",
       "      <td>1</td>\n",
       "      <td>0</td>\n",
       "      <td>1</td>\n",
       "      <td>1</td>\n",
       "      <td>0</td>\n",
       "      <td>0</td>\n",
       "    </tr>\n",
       "    <tr>\n",
       "      <th>1</th>\n",
       "      <td>0</td>\n",
       "      <td>1</td>\n",
       "      <td>0</td>\n",
       "      <td>0</td>\n",
       "      <td>1</td>\n",
       "      <td>0</td>\n",
       "      <td>4</td>\n",
       "      <td>1</td>\n",
       "      <td>0</td>\n",
       "      <td>3261</td>\n",
       "    </tr>\n",
       "    <tr>\n",
       "      <th>2</th>\n",
       "      <td>0</td>\n",
       "      <td>0</td>\n",
       "      <td>1</td>\n",
       "      <td>0</td>\n",
       "      <td>1</td>\n",
       "      <td>0</td>\n",
       "      <td>6</td>\n",
       "      <td>1</td>\n",
       "      <td>0</td>\n",
       "      <td>15549</td>\n",
       "    </tr>\n",
       "    <tr>\n",
       "      <th>3</th>\n",
       "      <td>0</td>\n",
       "      <td>0</td>\n",
       "      <td>1</td>\n",
       "      <td>0</td>\n",
       "      <td>1</td>\n",
       "      <td>0</td>\n",
       "      <td>6</td>\n",
       "      <td>1</td>\n",
       "      <td>0</td>\n",
       "      <td>29547</td>\n",
       "    </tr>\n",
       "    <tr>\n",
       "      <th>4</th>\n",
       "      <td>1</td>\n",
       "      <td>0</td>\n",
       "      <td>0</td>\n",
       "      <td>0</td>\n",
       "      <td>1</td>\n",
       "      <td>0</td>\n",
       "      <td>6</td>\n",
       "      <td>0</td>\n",
       "      <td>1</td>\n",
       "      <td>19131</td>\n",
       "    </tr>\n",
       "  </tbody>\n",
       "</table>\n",
       "</div>"
      ],
      "text/plain": [
       "   AGE_GROUP_GEN X  AGE_GROUP_GEN Z  AGE_GROUP_MILLENNIAL  \\\n",
       "0                0                1                     0   \n",
       "1                0                1                     0   \n",
       "2                0                0                     1   \n",
       "3                0                0                     1   \n",
       "4                1                0                     0   \n",
       "\n",
       "   EDUCATION_GRADUATE SCHOOL  EDUCATION_UNIVERSITY  EDUCATION_HIGH SCHOOL  \\\n",
       "0                          0                     1                      0   \n",
       "1                          0                     1                      0   \n",
       "2                          0                     1                      0   \n",
       "3                          0                     1                      0   \n",
       "4                          0                     1                      0   \n",
       "\n",
       "   PAY_FREQ  SEX_FEMALE  SEX_MALE  ACCT_BAL  \n",
       "0         1           1         0         0  \n",
       "1         4           1         0      3261  \n",
       "2         6           1         0     15549  \n",
       "3         6           1         0     29547  \n",
       "4         6           0         1     19131  "
      ]
     },
     "execution_count": 39,
     "metadata": {},
     "output_type": "execute_result"
    }
   ],
   "source": [
    "X = credit[['AGE_GROUP_GEN X', 'AGE_GROUP_GEN Z', 'AGE_GROUP_MILLENNIAL', 'EDUCATION_GRADUATE SCHOOL', \\\n",
    "            'EDUCATION_UNIVERSITY', 'EDUCATION_HIGH SCHOOL', 'PAY_FREQ', 'SEX_FEMALE', 'SEX_MALE', 'ACCT_BAL']] \n",
    "X.head()"
   ]
  },
  {
   "cell_type": "code",
   "execution_count": 40,
   "id": "84594d3f",
   "metadata": {},
   "outputs": [
    {
     "data": {
      "text/plain": [
       "0    0\n",
       "1    0\n",
       "2    1\n",
       "3    1\n",
       "4    1\n",
       "Name: NRESULT, dtype: int32"
      ]
     },
     "execution_count": 40,
     "metadata": {},
     "output_type": "execute_result"
    }
   ],
   "source": [
    "y = credit['NRESULT']\n",
    "y.head()"
   ]
  },
  {
   "cell_type": "code",
   "execution_count": 41,
   "id": "5ffc3a58",
   "metadata": {},
   "outputs": [],
   "source": [
    "#classification\n",
    "results = []\n",
    "names = []\n",
    "for name, model in algos_Class:\n",
    "    result = cross_val_score(model, X,y, cv=3, scoring='accuracy')\n",
    "    names.append(name)\n",
    "    results.append(result)"
   ]
  },
  {
   "cell_type": "code",
   "execution_count": 42,
   "id": "65d62c97",
   "metadata": {},
   "outputs": [
    {
     "name": "stdout",
     "output_type": "stream",
     "text": [
      "Decision Tree Classifier 0.681608901175788\n",
      "Random Forest Classifier 0.7042634402179787\n",
      "Gradient Boosting Classifier 0.7739546181106617\n"
     ]
    }
   ],
   "source": [
    "for i in range(len(names)):\n",
    "    print(names[i],results[i].mean())"
   ]
  },
  {
   "cell_type": "code",
   "execution_count": 43,
   "id": "120bc091",
   "metadata": {},
   "outputs": [
    {
     "data": {
      "text/html": [
       "<style>#sk-container-id-4 {color: black;background-color: white;}#sk-container-id-4 pre{padding: 0;}#sk-container-id-4 div.sk-toggleable {background-color: white;}#sk-container-id-4 label.sk-toggleable__label {cursor: pointer;display: block;width: 100%;margin-bottom: 0;padding: 0.3em;box-sizing: border-box;text-align: center;}#sk-container-id-4 label.sk-toggleable__label-arrow:before {content: \"▸\";float: left;margin-right: 0.25em;color: #696969;}#sk-container-id-4 label.sk-toggleable__label-arrow:hover:before {color: black;}#sk-container-id-4 div.sk-estimator:hover label.sk-toggleable__label-arrow:before {color: black;}#sk-container-id-4 div.sk-toggleable__content {max-height: 0;max-width: 0;overflow: hidden;text-align: left;background-color: #f0f8ff;}#sk-container-id-4 div.sk-toggleable__content pre {margin: 0.2em;color: black;border-radius: 0.25em;background-color: #f0f8ff;}#sk-container-id-4 input.sk-toggleable__control:checked~div.sk-toggleable__content {max-height: 200px;max-width: 100%;overflow: auto;}#sk-container-id-4 input.sk-toggleable__control:checked~label.sk-toggleable__label-arrow:before {content: \"▾\";}#sk-container-id-4 div.sk-estimator input.sk-toggleable__control:checked~label.sk-toggleable__label {background-color: #d4ebff;}#sk-container-id-4 div.sk-label input.sk-toggleable__control:checked~label.sk-toggleable__label {background-color: #d4ebff;}#sk-container-id-4 input.sk-hidden--visually {border: 0;clip: rect(1px 1px 1px 1px);clip: rect(1px, 1px, 1px, 1px);height: 1px;margin: -1px;overflow: hidden;padding: 0;position: absolute;width: 1px;}#sk-container-id-4 div.sk-estimator {font-family: monospace;background-color: #f0f8ff;border: 1px dotted black;border-radius: 0.25em;box-sizing: border-box;margin-bottom: 0.5em;}#sk-container-id-4 div.sk-estimator:hover {background-color: #d4ebff;}#sk-container-id-4 div.sk-parallel-item::after {content: \"\";width: 100%;border-bottom: 1px solid gray;flex-grow: 1;}#sk-container-id-4 div.sk-label:hover label.sk-toggleable__label {background-color: #d4ebff;}#sk-container-id-4 div.sk-serial::before {content: \"\";position: absolute;border-left: 1px solid gray;box-sizing: border-box;top: 0;bottom: 0;left: 50%;z-index: 0;}#sk-container-id-4 div.sk-serial {display: flex;flex-direction: column;align-items: center;background-color: white;padding-right: 0.2em;padding-left: 0.2em;position: relative;}#sk-container-id-4 div.sk-item {position: relative;z-index: 1;}#sk-container-id-4 div.sk-parallel {display: flex;align-items: stretch;justify-content: center;background-color: white;position: relative;}#sk-container-id-4 div.sk-item::before, #sk-container-id-4 div.sk-parallel-item::before {content: \"\";position: absolute;border-left: 1px solid gray;box-sizing: border-box;top: 0;bottom: 0;left: 50%;z-index: -1;}#sk-container-id-4 div.sk-parallel-item {display: flex;flex-direction: column;z-index: 1;position: relative;background-color: white;}#sk-container-id-4 div.sk-parallel-item:first-child::after {align-self: flex-end;width: 50%;}#sk-container-id-4 div.sk-parallel-item:last-child::after {align-self: flex-start;width: 50%;}#sk-container-id-4 div.sk-parallel-item:only-child::after {width: 0;}#sk-container-id-4 div.sk-dashed-wrapped {border: 1px dashed gray;margin: 0 0.4em 0.5em 0.4em;box-sizing: border-box;padding-bottom: 0.4em;background-color: white;}#sk-container-id-4 div.sk-label label {font-family: monospace;font-weight: bold;display: inline-block;line-height: 1.2em;}#sk-container-id-4 div.sk-label-container {text-align: center;}#sk-container-id-4 div.sk-container {/* jupyter's `normalize.less` sets `[hidden] { display: none; }` but bootstrap.min.css set `[hidden] { display: none !important; }` so we also need the `!important` here to be able to override the default hidden behavior on the sphinx rendered scikit-learn.org. See: https://github.com/scikit-learn/scikit-learn/issues/21755 */display: inline-block !important;position: relative;}#sk-container-id-4 div.sk-text-repr-fallback {display: none;}</style><div id=\"sk-container-id-4\" class=\"sk-top-container\"><div class=\"sk-text-repr-fallback\"><pre>GradientBoostingClassifier()</pre><b>In a Jupyter environment, please rerun this cell to show the HTML representation or trust the notebook. <br />On GitHub, the HTML representation is unable to render, please try loading this page with nbviewer.org.</b></div><div class=\"sk-container\" hidden><div class=\"sk-item\"><div class=\"sk-estimator sk-toggleable\"><input class=\"sk-toggleable__control sk-hidden--visually\" id=\"sk-estimator-id-4\" type=\"checkbox\" checked><label for=\"sk-estimator-id-4\" class=\"sk-toggleable__label sk-toggleable__label-arrow\">GradientBoostingClassifier</label><div class=\"sk-toggleable__content\"><pre>GradientBoostingClassifier()</pre></div></div></div></div></div>"
      ],
      "text/plain": [
       "GradientBoostingClassifier()"
      ]
     },
     "execution_count": 43,
     "metadata": {},
     "output_type": "execute_result"
    }
   ],
   "source": [
    "X_train, X_test, y_train, y_test = train_test_split(X, y, test_size = .30, random_state = 123)\n",
    "model = GradientBoostingClassifier()\n",
    "model.fit(X_train, y_train)"
   ]
  },
  {
   "cell_type": "code",
   "execution_count": 44,
   "id": "16cd6e76",
   "metadata": {},
   "outputs": [
    {
     "data": {
      "text/plain": [
       "0.7663280116110305"
      ]
     },
     "execution_count": 44,
     "metadata": {},
     "output_type": "execute_result"
    }
   ],
   "source": [
    "model.score(X_test, y_test)"
   ]
  },
  {
   "cell_type": "code",
   "execution_count": 45,
   "id": "3f298b6f",
   "metadata": {},
   "outputs": [
    {
     "name": "stdout",
     "output_type": "stream",
     "text": [
      "              precision    recall  f1-score   support\n",
      "\n",
      "           0       0.50      0.06      0.10       161\n",
      "           1       0.77      0.98      0.87       528\n",
      "\n",
      "    accuracy                           0.77       689\n",
      "   macro avg       0.64      0.52      0.48       689\n",
      "weighted avg       0.71      0.77      0.69       689\n",
      "\n"
     ]
    }
   ],
   "source": [
    "prediction = model.predict(X_test)\n",
    "print(classification_report(y_test, prediction, zero_division=1))"
   ]
  },
  {
   "cell_type": "code",
   "execution_count": 46,
   "id": "6b3f1b1e",
   "metadata": {},
   "outputs": [
    {
     "data": {
      "image/png": "[encoded data removed]",
      "text/plain": [
       "<Figure size 432x288 with 2 Axes>"
      ]
     },
     "metadata": {
      "needs_background": "light"
     },
     "output_type": "display_data"
    }
   ],
   "source": [
    "cm = confusion_matrix(y_test, prediction, labels=model.classes_)\n",
    "disp = ConfusionMatrixDisplay(confusion_matrix=cm, display_labels=model.classes_)\n",
    "disp.plot()\n",
    "plt.show()"
   ]
  },
  {
   "cell_type": "code",
   "execution_count": null,
   "id": "0fc2b1ac",
   "metadata": {},
   "outputs": [],
   "source": []
  }
 ],
 "metadata": {
  "kernelspec": {
   "display_name": "Python 3 (ipykernel)",
   "language": "python",
   "name": "python3"
  },
  "language_info": {
   "codemirror_mode": {
    "name": "ipython",
    "version": 3
   },
   "file_extension": ".py",
   "mimetype": "text/x-python",
   "name": "python",
   "nbconvert_exporter": "python",
   "pygments_lexer": "ipython3",
   "version": "3.10.4"
  }
 },
 "nbformat": 4,
 "nbformat_minor": 5
}
